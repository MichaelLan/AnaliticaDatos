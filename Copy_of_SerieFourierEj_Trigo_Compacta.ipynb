{
  "nbformat": 4,
  "nbformat_minor": 0,
  "metadata": {
    "kernelspec": {
      "display_name": "Python 3",
      "language": "python",
      "name": "python3"
    },
    "language_info": {
      "codemirror_mode": {
        "name": "ipython",
        "version": 3
      },
      "file_extension": ".py",
      "mimetype": "text/x-python",
      "name": "python",
      "nbconvert_exporter": "python",
      "pygments_lexer": "ipython3",
      "version": "3.7.1"
    },
    "colab": {
      "name": "Copy of SerieFourierEj_Trigo_Compacta.ipynb",
      "provenance": [],
      "include_colab_link": true
    }
  },
  "cells": [
    {
      "cell_type": "markdown",
      "metadata": {
        "id": "view-in-github",
        "colab_type": "text"
      },
      "source": [
        "<a href=\"https://colab.research.google.com/github/amalvarezme/AnaliticaDatos/blob/master/Copy_of_SerieFourierEj_Trigo_Compacta.ipynb\" target=\"_parent\"><img src=\"https://colab.research.google.com/assets/colab-badge.svg\" alt=\"Open In Colab\"/></a>"
      ]
    },
    {
      "cell_type": "markdown",
      "metadata": {
        "id": "lxUB-dHuZijb",
        "colab_type": "text"
      },
      "source": [
        "# Serie de Fourier Ejemplo (exponencial, trigonométrica y compacta)"
      ]
    },
    {
      "cell_type": "markdown",
      "metadata": {
        "id": "2nItim9KZije",
        "colab_type": "text"
      },
      "source": [
        "Sea la señal:\n",
        "\n",
        "\\begin{equation}\n",
        "x(t) = \\begin{cases} A, & -T/2 \\leq t < 0 \\\\ -A, & 0 \\leq t < T/2 \\end{cases}\n",
        "\\end{equation}\n"
      ]
    },
    {
      "cell_type": "code",
      "metadata": {
        "id": "Z0uNaqtxZijf",
        "colab_type": "code",
        "outputId": "106323b0-287f-499c-9daa-5e56679f09e1",
        "colab": {}
      },
      "source": [
        "# Para graficar\n",
        "%matplotlib inline\n",
        "import matplotlib as mpl\n",
        "import matplotlib.pyplot as plt\n",
        "import numpy as np\n",
        "import warnings\n",
        "warnings.filterwarnings(\"ignore\")\n",
        "\n",
        "mpl.rc('axes', labelsize=14)\n",
        "mpl.rc('xtick', labelsize=12)\n",
        "mpl.rc('ytick', labelsize=12)\n",
        "\n",
        "A = 2\n",
        "T = 3 #3 segundos de grafica\n",
        "Fs = 1000 # 500 muestras por segundo Ajustar según señal estudiada\n",
        "Nm = T*Fs #numero de muestras requeridas\n",
        "tv = np.linspace(-T/2,T/2,Nm)\n",
        "\n",
        "xo = np.concatenate((A*np.ones(int(Nm/2)), -A*np.ones(int(Nm/2))), axis=0)\n",
        "\n",
        "plt.plot(tv,xo,'r',linewidth=4)\n",
        "plt.grid()\n",
        "plt.xlabel(\"t[s]\",fontsize = 14)\n",
        "plt.ylabel(\"x(t)\",fontsize = 14)\n"
      ],
      "execution_count": 0,
      "outputs": [
        {
          "output_type": "execute_result",
          "data": {
            "text/plain": [
              "Text(0, 0.5, 'x(t)')"
            ]
          },
          "metadata": {
            "tags": []
          },
          "execution_count": 27
        },
        {
          "output_type": "display_data",
          "data": {
            "image/png": "[encoded data removed]",
            "text/plain": [
              "<Figure size 432x288 with 1 Axes>"
            ]
          },
          "metadata": {
            "tags": [],
            "needs_background": "light"
          }
        }
      ]
    },
    {
      "cell_type": "markdown",
      "metadata": {
        "id": "vy5AvnGIZiji",
        "colab_type": "text"
      },
      "source": [
        "Su espectro en serie de Fourier (compleja) se calcula como:\n",
        "\n",
        "\\begin{equation}\n",
        "c_n = \\frac{1}{T}\\int^{T/2}_{-T/2}{x(t)e^{-jn\\omega_o t}}dt=\\frac{jA}{n\\pi}(1-(-1)^n); \\quad n\\neq 0\n",
        "\\end{equation}\n",
        "\n",
        "donde \n",
        "\n",
        "\\begin{equation}\n",
        "c_0 = \\frac{1}{T}\\int^{T/2}_{-T/2}{x(t)}dt=0\n",
        "\\end{equation}\n",
        "y:\n",
        "\n",
        "\\begin{equation}\n",
        "\\hat{x}(t) = \\sum\\limits_{n=-N}^N{c_n e^{jn\\omega_ot}}.\n",
        "\\end{equation}\n",
        "\n",
        "Además, su espectro en serie de Fourier (trigonométrica) se calcula como:\n",
        "\n",
        "\\begin{equation}\n",
        "a_n = \\frac{2}{T}\\int^{T/2}_{-T/2}{x(t)\\cos(n\\omega_o t)}dt=2\\mathcal{Re}\\{c_n\\}= 0; \\quad n > 0\n",
        "\\end{equation}\n",
        "\\begin{equation}\n",
        "a_0 = c_0 = 0.\n",
        "\\end{equation}\n",
        "\n",
        "\\begin{equation}\n",
        "b_n = \\frac{2}{T}\\int^{T/2}_{-T/2}{x(t)\\sin(n\\omega_o t)}dt=-2\\mathcal{Im}\\{c_n\\}=\\frac{2A}{n\\pi}((-1)^n-1); \\quad n > 0\n",
        "\\end{equation}\n",
        "\\begin{equation}\n",
        "b_0 = 0.\n",
        "\\end{equation}\n",
        "\n",
        "y:\n",
        "\n",
        "\\begin{equation}\n",
        "\\hat{x}(t) = a_0+\\sum\\limits_{n=1}^N{a_n \\cos(n\\omega_ot)+b_n\\sin{n\\omega_ot}}.\n",
        "\\end{equation}\n",
        "\n",
        "Los pesos la serie exponencial se pueden estimar a partir de la serie trigonométrica según la siguientes relación:\n",
        "\n",
        "\\begin{equation}\n",
        "c_n = \\frac{a_n - jb_n}{2}, \\quad n\\neq 0\\\\\n",
        "c_0 = a_0.\n",
        "\\end{equation}\n",
        "\n",
        "Por otra parte, su espectro en serie de Fourier compacta se calcula como:\n",
        "\n",
        "\\begin{equation}\n",
        "d_n = \\sqrt{a_n^2+b_n^2} = 2|c_n| = \\frac{2A}{n\\pi}((-1)^n-1); \\quad n > 0\n",
        "\\end{equation}\n",
        "\\begin{equation}\n",
        "d_0 = a_0;  \n",
        "\\end{equation}\n",
        "\n",
        "\\begin{equation}\n",
        "\\phi_n = \\tan^{-1}\\left(\\frac{\\mathcal{Im}\\{c_n\\}}{\\mathcal{Re}\\{c_n\\}}\\right) = \\tan^{-1}\\left(\\frac{-b_n}{a_n}\\right); \\quad n \\geq 0\n",
        "\\end{equation}\n",
        "\n",
        "y:\n",
        "\n",
        "\\begin{equation}\n",
        "\\hat{x}(t) = \\sum\\limits_{n=0}^N{d_n \\cos(n\\omega_ot+\\phi_n)}.\n",
        "\\end{equation}\n"
      ]
    },
    {
      "cell_type": "code",
      "metadata": {
        "id": "KUvNLyb5Zijj",
        "colab_type": "code",
        "colab": {}
      },
      "source": [
        "N = 20 #numero armonicos\n",
        "wo = 2*np.pi/T # frecuencia fundamental\n",
        "# %% definir bases\n",
        "phin = np.zeros((Nm,2*N+1),dtype=np.complex_)\n",
        "for n in range(-N,N+1,1):\n",
        "    phin[:,n+N] = np.exp(1j*n*wo*tv)"
      ],
      "execution_count": 0,
      "outputs": []
    },
    {
      "cell_type": "code",
      "metadata": {
        "id": "sUP0G8ufZijl",
        "colab_type": "code",
        "outputId": "f915a78e-c0dc-4698-d8ca-82f5fd204a98",
        "colab": {}
      },
      "source": [
        "# graficar bases\n",
        "from ipywidgets import interact,IntSlider\n",
        "\n",
        "def pltbase(n=1):\n",
        "    plt.plot(tv,np.real(phin[:,int(n+N)]),label=\"Re{$\\phi_n$(t)}\")\n",
        "    plt.xlabel(\"t[s]\",fontsize = 14)\n",
        "    plt.ylabel(\"$\\phi_n$(t)\",fontsize = 14)\n",
        "    plt.plot(tv,np.imag(phin[:,int(n+N)]),label=\"Im{$\\phi_n$(t)}\")\n",
        "    plt.grid()\n",
        "    plt.legend()\n",
        "    plt.show()\n",
        "    return\n",
        "interact(pltbase,n=(-N,N,1))"
      ],
      "execution_count": 0,
      "outputs": [
        {
          "output_type": "display_data",
          "data": {
            "application/vnd.jupyter.widget-view+json": {
              "model_id": "6a0f3eb615434a45a7e6f0db1bd9ece5",
              "version_major": 2,
              "version_minor": 0
            },
            "text/plain": [
              "interactive(children=(IntSlider(value=1, description='n', max=20, min=-20), Output()), _dom_classes=('widget-i…"
            ]
          },
          "metadata": {
            "tags": []
          }
        },
        {
          "output_type": "execute_result",
          "data": {
            "text/plain": [
              "<function __main__.pltbase(n=1)>"
            ]
          },
          "metadata": {
            "tags": []
          },
          "execution_count": 34
        }
      ]
    },
    {
      "cell_type": "code",
      "metadata": {
        "id": "8oqZNzEfZijn",
        "colab_type": "code",
        "colab": {}
      },
      "source": [
        "#calcular espectro -> cambiar según la señal estudiada\n",
        "cn = np.zeros(2*N+1,dtype=np.complex_)\n",
        "nv = np.linspace(-N, N, 2*N+1) #vector num armónicos\n",
        "Cn = ((1j*A)/(nv*np.pi))*(1-(-1)**nv) \n",
        "Cn[N] = 0 "
      ],
      "execution_count": 0,
      "outputs": []
    },
    {
      "cell_type": "code",
      "metadata": {
        "id": "LLb8tZKmZijq",
        "colab_type": "code",
        "outputId": "e0b65883-09df-447d-964c-d1016f926871",
        "colab": {}
      },
      "source": [
        "#graficar espectro\n",
        "fig = plt.figure(figsize=(4,8))\n",
        "plt.subplot(3,1,1)\n",
        "plt.stem(nv, np.real(Cn), 'r')\n",
        "plt.title(r'Re{Cn}')\n",
        "plt.xlabel(r'$nw_o$[rad/s]',fontsize = 14)\n",
        "plt.ylabel(r'$Re\\{C_n\\}$',fontsize = 14)\n",
        "plt.axis('tight')\n",
        "plt.grid()\n",
        "\n",
        "plt.subplot(3,1,2)\n",
        "plt.stem(nv, np.imag(Cn), 'r')\n",
        "plt.title(r'Im{Cn}')\n",
        "plt.xlabel(r'$nw_o$[rad/s]',fontsize = 14)\n",
        "plt.ylabel(r'$Im\\{C_n\\}$',fontsize = 14)\n",
        "plt.axis('tight')\n",
        "plt.grid()\n",
        "\n",
        "plt.subplot(3,1,3)\n",
        "plt.stem(nv, abs(Cn), 'r')\n",
        "plt.title(r'|Cn|')\n",
        "plt.xlabel(r'$nw_o$[rad/s]',fontsize = 14)\n",
        "plt.ylabel(r'$|C_n|$',fontsize = 14)\n",
        "plt.axis('tight')\n",
        "plt.grid()\n",
        "\n",
        "fig.tight_layout()"
      ],
      "execution_count": 0,
      "outputs": [
        {
          "output_type": "display_data",
          "data": {
            "image/png": "[encoded data removed]",
            "text/plain": [
              "<Figure size 288x576 with 3 Axes>"
            ]
          },
          "metadata": {
            "tags": [],
            "needs_background": "light"
          }
        }
      ]
    },
    {
      "cell_type": "markdown",
      "metadata": {
        "id": "5VeeEM1IZijs",
        "colab_type": "text"
      },
      "source": [
        "# Error relativo\n",
        "\n",
        "El error cuadrático medio de la representación generalizada de Fourier se define como:\n",
        "\\begin{equation}\n",
        "E^2(c_n) = \\frac{1}{T}\\int\\limits_{-T/2}^{T/2}{\\left|x(t)-\\sum\\limits_{n=-N}^{N}{c_n \\varphi_n(t)}\\right|^2dt},\n",
        "\\end{equation}\n",
        "\n",
        "El error relativo se puede definir entonces como:\n",
        "\n",
        "\\begin{equation}\n",
        "E_r[\\%] = \\frac{E^2(c_n)}{P_x} = 1 - \\sum\\limits_{n=-N}^N{|c_n|^2 P_n/P_x},\n",
        "\\end{equation}\n",
        "\n",
        "\\begin{equation}\n",
        "P_x = \\int\\limits_{-T/2}^{T/2}{|x(t)^2|dt}, \\quad P_n = \\int\\limits_{-T/2}^{T/2}{|\\varphi_n(t)^2|dt}.\n",
        "\\end{equation}\n",
        "para el caso de Fourier $\\varphi_n(t)=e^{jn\\omega_ot}$ y $P_n=1.$ Además, $|c_n|=|c_{-n}|,$ por consiguiente:\n",
        "\n",
        "\\begin{equation}\n",
        "E_r[\\%] = 1 - \\left(\\frac{|c_0|^2}{P_x}+\\frac{2}{P_x}\\sum\\limits_{n=1}^N{|c_n|^2}\\right).\n",
        "\\end{equation}\n",
        "\n",
        "Para el ejemplo estudiado $P_x = A^2$ y $c_0=0$, es decir:\n",
        "\n",
        "\\begin{equation}\n",
        "E_r[\\%] = 1 - \\left(\\frac{2}{A^2}\\sum\\limits_{n=1}^N{\\left|\\frac{jA(1-(-1)^n)}{n \\pi}\\right|^2}\\right).\n",
        "\\end{equation}\n",
        "\n"
      ]
    },
    {
      "cell_type": "code",
      "metadata": {
        "id": "NfyGjmISZijt",
        "colab_type": "code",
        "outputId": "b227d6ff-e82d-4b8d-d03f-94b88a40964e",
        "colab": {}
      },
      "source": [
        "Px = A**2 # estimar según señal estudiada\n",
        "def pltest(Na=1):\n",
        "    ind = range(N-Na,N+Na+1)\n",
        "    er = 1- (Cn[N] + 2*np.sum(abs(Cn[N:N+Na+1])**2))/Px\n",
        "    xe = phin[:,ind]@ Cn[ind] \n",
        "    plt.plot(tv,xe,color='b',label='xe')\n",
        "    plt.plot(tv,xo,color='r',label='x')\n",
        "    plt.title('Er=%.2f[%%]' % (100*er),fontsize=16)\n",
        "    plt.xlabel('t[s]')\n",
        "    plt.ylabel('x(t)')\n",
        "    plt.grid()\n",
        "    plt.legend()\n",
        "    plt.show()\n",
        "    return\n",
        "interact(pltest,Na=(1,N,1))"
      ],
      "execution_count": 0,
      "outputs": [
        {
          "output_type": "display_data",
          "data": {
            "application/vnd.jupyter.widget-view+json": {
              "model_id": "32a53ce050fe4c63b82304c85a7afd35",
              "version_major": 2,
              "version_minor": 0
            },
            "text/plain": [
              "interactive(children=(IntSlider(value=1, description='Na', max=20, min=1), Output()), _dom_classes=('widget-in…"
            ]
          },
          "metadata": {
            "tags": []
          }
        },
        {
          "output_type": "execute_result",
          "data": {
            "text/plain": [
              "<function __main__.pltest(Na=1)>"
            ]
          },
          "metadata": {
            "tags": []
          },
          "execution_count": 39
        }
      ]
    },
    {
      "cell_type": "markdown",
      "metadata": {
        "id": "XoYpp3ESZijv",
        "colab_type": "text"
      },
      "source": [
        "## Ejercicio: Ajustar los códigos para el caso de la serie trigonométrica y compacta"
      ]
    },
    {
      "cell_type": "code",
      "metadata": {
        "id": "TzF-H4jcZijw",
        "colab_type": "code",
        "colab": {}
      },
      "source": [
        ""
      ],
      "execution_count": 0,
      "outputs": []
    }
  ]
}